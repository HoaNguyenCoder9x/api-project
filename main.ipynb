{
 "cells": [
  {
   "cell_type": "code",
   "execution_count": null,
   "metadata": {},
   "outputs": [],
   "source": [
    "# DOCUMENT LINK\n",
    "# https://free-apis.github.io/#/browse\n",
    "# https://dog.ceo/dog-api/documentation/breed\n",
    "# https://alexwohlbruck.github.io/cat-facts/"
   ]
  },
  {
   "cell_type": "code",
   "execution_count": 1,
   "metadata": {},
   "outputs": [],
   "source": [
    "import os\n",
    "import requests\n",
    "import pandas as pd \n",
    "# import duckdb\n",
    "import numpy as np"
   ]
  },
  {
   "cell_type": "code",
   "execution_count": 2,
   "metadata": {},
   "outputs": [],
   "source": [
    "empty_list = []\n",
    "# img = f'https://dog.ceo/api/breed/hound/{dog}/images'\n",
    "for i in range(10):\n",
    "    r1 = requests.get('https://dog.ceo/api/breeds/image/random/50').json()['message']\n",
    "    for r in r1:\n",
    "        empty_list.append(r)\n",
    "\n",
    "new_list = set(empty_list)\n",
    "converted_list = list(new_list)\n"
   ]
  },
  {
   "cell_type": "code",
   "execution_count": 3,
   "metadata": {},
   "outputs": [],
   "source": [
    "dog_dict = {}\n",
    "emp_list = []\n",
    "for c in converted_list:\n",
    "\n",
    "    dog_name = c.split('/')[4]\n",
    "    dog_dict[dog_name] = c"
   ]
  },
  {
   "cell_type": "code",
   "execution_count": 4,
   "metadata": {},
   "outputs": [],
   "source": [
    "df = pd.DataFrame(converted_list)\n",
    "df.columns = ['images']\n",
    "df['dogs_name']  = df['images'].apply(lambda x : x.split('/')[4])"
   ]
  },
  {
   "cell_type": "code",
   "execution_count": 5,
   "metadata": {},
   "outputs": [
    {
     "data": {
      "text/html": [
       "<div>\n",
       "<style scoped>\n",
       "    .dataframe tbody tr th:only-of-type {\n",
       "        vertical-align: middle;\n",
       "    }\n",
       "\n",
       "    .dataframe tbody tr th {\n",
       "        vertical-align: top;\n",
       "    }\n",
       "\n",
       "    .dataframe thead th {\n",
       "        text-align: right;\n",
       "    }\n",
       "</style>\n",
       "<table border=\"1\" class=\"dataframe\">\n",
       "  <thead>\n",
       "    <tr style=\"text-align: right;\">\n",
       "      <th></th>\n",
       "      <th>images</th>\n",
       "      <th>dogs_name</th>\n",
       "    </tr>\n",
       "  </thead>\n",
       "  <tbody>\n",
       "    <tr>\n",
       "      <th>0</th>\n",
       "      <td>https://images.dog.ceo/breeds/setter-irish/n02...</td>\n",
       "      <td>setter-irish</td>\n",
       "    </tr>\n",
       "    <tr>\n",
       "      <th>1</th>\n",
       "      <td>https://images.dog.ceo/breeds/schipperke/n0210...</td>\n",
       "      <td>schipperke</td>\n",
       "    </tr>\n",
       "    <tr>\n",
       "      <th>2</th>\n",
       "      <td>https://images.dog.ceo/breeds/havanese/00100tr...</td>\n",
       "      <td>havanese</td>\n",
       "    </tr>\n",
       "    <tr>\n",
       "      <th>3</th>\n",
       "      <td>https://images.dog.ceo/breeds/collie-border/n0...</td>\n",
       "      <td>collie-border</td>\n",
       "    </tr>\n",
       "    <tr>\n",
       "      <th>4</th>\n",
       "      <td>https://images.dog.ceo/breeds/pinscher-miniatu...</td>\n",
       "      <td>pinscher-miniature</td>\n",
       "    </tr>\n",
       "  </tbody>\n",
       "</table>\n",
       "</div>"
      ],
      "text/plain": [
       "                                              images           dogs_name\n",
       "0  https://images.dog.ceo/breeds/setter-irish/n02...        setter-irish\n",
       "1  https://images.dog.ceo/breeds/schipperke/n0210...          schipperke\n",
       "2  https://images.dog.ceo/breeds/havanese/00100tr...            havanese\n",
       "3  https://images.dog.ceo/breeds/collie-border/n0...       collie-border\n",
       "4  https://images.dog.ceo/breeds/pinscher-miniatu...  pinscher-miniature"
      ]
     },
     "execution_count": 5,
     "metadata": {},
     "output_type": "execute_result"
    }
   ],
   "source": [
    "df.head()"
   ]
  },
  {
   "cell_type": "code",
   "execution_count": 7,
   "metadata": {},
   "outputs": [
    {
     "data": {
      "text/plain": [
       "'https://images.dog.ceo/breeds/setter-irish/n02100877_6453.jpg'"
      ]
     },
     "execution_count": 7,
     "metadata": {},
     "output_type": "execute_result"
    }
   ],
   "source": [
    "df['images'][0]"
   ]
  },
  {
   "cell_type": "code",
   "execution_count": 35,
   "metadata": {},
   "outputs": [],
   "source": [
    "new_dict = {}\n",
    "\n",
    "for k,v in dog_dict.items():\n",
    "    n = {k:v}\n",
    "    new_dict.update(n)\n",
    "    \n",
    "    "
   ]
  },
  {
   "cell_type": "code",
   "execution_count": 41,
   "metadata": {},
   "outputs": [
    {
     "data": {
      "text/plain": [
       "500"
      ]
     },
     "execution_count": 41,
     "metadata": {},
     "output_type": "execute_result"
    }
   ],
   "source": [
    "len(empty_list)"
   ]
  },
  {
   "cell_type": "code",
   "execution_count": null,
   "metadata": {},
   "outputs": [],
   "source": []
  }
 ],
 "metadata": {
  "kernelspec": {
   "display_name": "Python 3",
   "language": "python",
   "name": "python3"
  },
  "language_info": {
   "codemirror_mode": {
    "name": "ipython",
    "version": 3
   },
   "file_extension": ".py",
   "mimetype": "text/x-python",
   "name": "python",
   "nbconvert_exporter": "python",
   "pygments_lexer": "ipython3",
   "version": "3.8.3"
  }
 },
 "nbformat": 4,
 "nbformat_minor": 2
}
